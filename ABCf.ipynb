{
 "cells": [
  {
   "cell_type": "code",
   "execution_count": 1,
   "metadata": {},
   "outputs": [],
   "source": [
    "import numpy as np\n",
    "import numpy.matlib\n",
    "import random\n"
   ]
  },
  {
   "cell_type": "code",
   "execution_count": 2,
   "metadata": {},
   "outputs": [],
   "source": [
    "def sphere(x):\n",
    "    y = np.empty((10,1))\n",
    "    y[:] = np.NaN\n",
    "    \n",
    "    \n",
    "    for i in range(len(x)):\n",
    "        z = 0\n",
    "        t = 0\n",
    "        row = x[i, :]\n",
    "        t = np.square(row)\n",
    "        z = np.sum(t)\n",
    "        y[i]=z\n",
    "    return(y)  \n",
    "        \n",
    "  \n",
    "        \n",
    "        \n",
    " "
   ]
  },
  {
   "cell_type": "code",
   "execution_count": 3,
   "metadata": {},
   "outputs": [],
   "source": [
    "def CalFit(f):\n",
    "    if f >= 0:\n",
    "        fit = 1/(1+f)\n",
    "    else:\n",
    "        fit = 1 + abs(f)\n",
    "    return fit"
   ]
  },
  {
   "cell_type": "code",
   "execution_count": 4,
   "metadata": {},
   "outputs": [],
   "source": [
    "def GenNewSol(lb,ub,Np,n,P,fit,trial,f,D):\n",
    "    j = random.randint(0,D-1)\n",
    "    p = random.randint(0,Np-1)\n",
    "    \n",
    "    while(p==n):\n",
    "        p = random.randint(0,Np-1)\n",
    "       \n",
    "    Xnew = P[n]\n",
    "    \n",
    "    phi = -1 + (1-(-1))*random.uniform(-1,1)\n",
    "    \n",
    "    Xnew[j] = P[n,j] + phi*(P[n,j] - P[p,j])\n",
    "    \n",
    "    Xnew[j] = min(Xnew[j],ub[j])\n",
    "    \n",
    "    Xnew[j] = max(Xnew[j],lb[j])\n",
    "    \n",
    "    \n",
    "\n",
    "        \n",
    "    z = np.square(Xnew)\n",
    "    ObjNewBol = np.sum(z)\n",
    "    FitnessNewSol = CalFit(ObjNewBol)\n",
    "    \n",
    "    \n",
    "    if(FitnessNewSol>fit[n]):\n",
    "        P[n] = Xnew\n",
    "        fit[n] = FitnessNewSol\n",
    "        f[n]=ObjNewBol\n",
    "        trial[n]=0\n",
    "        \n",
    "    else:\n",
    "        trial[n] = trial[n] + 1\n",
    "        \n",
    "        \n",
    "    return trial, P, fit, f"
   ]
  },
  {
   "cell_type": "code",
   "execution_count": 5,
   "metadata": {},
   "outputs": [],
   "source": [
    "#now the ABC\n",
    "lb = np.array([0,0])\n",
    "ub = np.array([500,500])"
   ]
  },
  {
   "cell_type": "code",
   "execution_count": 6,
   "metadata": {},
   "outputs": [],
   "source": [
    "Np = 10;\n",
    "T = 50;\n",
    "limit = 5;\n",
    "t=0\n"
   ]
  },
  {
   "cell_type": "code",
   "execution_count": 7,
   "metadata": {},
   "outputs": [],
   "source": [
    "f = np.empty((Np,1))\n",
    "f[:] = np.NaN\n",
    "fit = np.empty((Np,1))\n",
    "fit[:] = np.NaN\n",
    "trial = np.empty((Np,1))\n",
    "\n",
    "D = len(lb)\n",
    "\n",
    "\n",
    "rand = np.random.rand(Np,D)\n",
    "\n",
    "arr1 = np.matlib.repmat(lb,Np,1)\n",
    "arr2 = np.matlib.repmat(ub-lb,Np,1)\n",
    "P = arr1 +arr2*rand\n",
    "\n",
    "f= sphere(P)\n",
    "for p in range(Np):\n",
    "     fit[p]=CalFit(f[p])\n",
    "\n",
    "bestobj = min(f)\n",
    "ind = f.argmin()\n",
    "bestsol = P[ind]\n"
   ]
  },
  {
   "cell_type": "code",
   "execution_count": 8,
   "metadata": {},
   "outputs": [],
   "source": [
    "while(t<T):\n",
    "    #employed\n",
    "    for i in range(Np):\n",
    "        trial,P,fit,f = GenNewSol(lb,ub,Np,i,P,fit,trial,f,D)\n",
    "    \n",
    "    \n",
    "    \n",
    "    #onlooker bee\n",
    "    probability = 0.9*(fit/max(fit)) + 0.1\n",
    "    m = 0\n",
    "    n = 1\n",
    "    while(m<Np):\n",
    "        i = 0\n",
    "        if (random.random() < probability[i]):\n",
    "            trial,P,fit,f = GenNewSol(lb,ub,Np,i,P,fit,trial,f,D)\n",
    "            m = m+1\n",
    "        else:\n",
    "            n = n%Np + 1\n",
    "        i += 1\n",
    "    stack = np.vstack([f,bestobj])\n",
    "    bestobj = min(stack)\n",
    "    ind = stack.argmin()\n",
    "    CombinedSol = np.vstack([P,bestsol])\n",
    "    bestsol = CombinedSol[ind]\n",
    "    \n",
    "    \n",
    "    #scout bee\n",
    "    val = max(trial)\n",
    "    ind = trial.argmax()\n",
    "\n",
    "    if(val>limit):\n",
    "        trial[ind]=0;\n",
    "        P[ind] = lb + (ub - lb)*np.random.rand(1,D)\n",
    "        z = np.square(P[ind])\n",
    "        F = np.sum(z)\n",
    "        f[ind]=F\n",
    "        fit[ind]=CalFit(f[ind])\n",
    "        \n",
    "    stack = np.vstack([f,bestobj])\n",
    "    bestobj = min(stack)\n",
    "    ind = stack.argmin()\n",
    "    CombinedSol = np.vstack([P,bestsol])\n",
    "    bestsol = CombinedSol[ind]\n",
    "    \n",
    "    \n",
    "    \n",
    "    t+=1\n",
    "\n",
    "\n",
    "    "
   ]
  },
  {
   "cell_type": "code",
   "execution_count": 9,
   "metadata": {},
   "outputs": [
    {
     "name": "stdout",
     "output_type": "stream",
     "text": [
      "[[ 58.49692494 368.72251666]\n",
      " [500.          83.66498495]\n",
      " [500.         255.40271673]\n",
      " [322.38273024   0.        ]\n",
      " [193.13457615   0.        ]\n",
      " [500.           0.        ]\n",
      " [  0.           0.        ]\n",
      " [500.         149.56082743]\n",
      " [283.92129427 500.        ]\n",
      " [500.         236.55515495]\n",
      " [500.           0.        ]]\n",
      "[[139378.18452123]\n",
      " [145027.74218491]\n",
      " [  9052.46031337]\n",
      " [     0.        ]\n",
      " [ 37300.96450551]\n",
      " [ 83104.55968324]\n",
      " [     0.        ]\n",
      " [ 43669.82982591]\n",
      " [297208.2173396 ]\n",
      " [ 65134.7425442 ]\n",
      " [     0.        ]]\n",
      "3\n"
     ]
    }
   ],
   "source": [
    "print(CombinedSol)\n",
    "print(stack)\n",
    "print(ind)"
   ]
  },
  {
   "cell_type": "code",
   "execution_count": 10,
   "metadata": {},
   "outputs": [
    {
     "name": "stdout",
     "output_type": "stream",
     "text": [
      "[322.38273024   0.        ]\n"
     ]
    }
   ],
   "source": [
    "print(bestsol)"
   ]
  },
  {
   "cell_type": "code",
   "execution_count": null,
   "metadata": {},
   "outputs": [],
   "source": []
  }
 ],
 "metadata": {
  "kernelspec": {
   "display_name": "Python 3",
   "language": "python",
   "name": "python3"
  },
  "language_info": {
   "codemirror_mode": {
    "name": "ipython",
    "version": 3
   },
   "file_extension": ".py",
   "mimetype": "text/x-python",
   "name": "python",
   "nbconvert_exporter": "python",
   "pygments_lexer": "ipython3",
   "version": "3.8.5"
  }
 },
 "nbformat": 4,
 "nbformat_minor": 4
}
